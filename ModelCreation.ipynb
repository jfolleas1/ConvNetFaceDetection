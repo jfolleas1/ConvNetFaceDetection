{
 "cells": [
  {
   "cell_type": "code",
   "execution_count": 1,
   "metadata": {},
   "outputs": [
    {
     "name": "stderr",
     "output_type": "stream",
     "text": [
      "Using TensorFlow backend.\n"
     ]
    }
   ],
   "source": [
    "import os, cv2, random\n",
    "import numpy as np\n",
    "import pandas as pd\n",
    "\n",
    "import matplotlib.pyplot as plt\n",
    "from matplotlib import ticker\n",
    "import seaborn as sns\n",
    "%matplotlib inline \n",
    "\n",
    "from keras.models import Sequential\n",
    "from keras.layers import Input, Dropout, Flatten, Conv2D, MaxPooling2D, Dense, Activation\n",
    "from keras.optimizers import RMSprop\n",
    "from keras.callbacks import ModelCheckpoint, Callback, EarlyStopping\n",
    "from keras.utils import np_utils\n",
    "from keras.models import load_model"
   ]
  },
  {
   "cell_type": "code",
   "execution_count": 2,
   "metadata": {},
   "outputs": [
    {
     "name": "stdout",
     "output_type": "stream",
     "text": [
      "test\n",
      "train\n",
      "\n"
     ]
    }
   ],
   "source": [
    "from subprocess import check_output\n",
    "print(check_output([\"ls\", \"../data\"]).decode(\"utf8\"))"
   ]
  },
  {
   "cell_type": "code",
   "execution_count": 23,
   "metadata": {
    "scrolled": true
   },
   "outputs": [
    {
     "name": "stdout",
     "output_type": "stream",
     "text": [
      "Processed 0 of 64770\n",
      "Processed 250 of 64770\n",
      "Processed 500 of 64770\n",
      "Processed 750 of 64770\n",
      "Processed 1000 of 64770\n",
      "Processed 1250 of 64770\n",
      "Processed 1500 of 64770\n",
      "Processed 1750 of 64770\n",
      "Processed 2000 of 64770\n",
      "Processed 2250 of 64770\n",
      "Processed 2500 of 64770\n",
      "Processed 2750 of 64770\n",
      "Processed 3000 of 64770\n",
      "Processed 3250 of 64770\n",
      "Processed 3500 of 64770\n",
      "Processed 3750 of 64770\n",
      "Processed 4000 of 64770\n",
      "Processed 4250 of 64770\n",
      "Processed 4500 of 64770\n",
      "Processed 4750 of 64770\n",
      "Processed 5000 of 64770\n",
      "Processed 5250 of 64770\n",
      "Processed 5500 of 64770\n",
      "Processed 5750 of 64770\n",
      "Processed 6000 of 64770\n",
      "Processed 6250 of 64770\n",
      "Processed 6500 of 64770\n",
      "Processed 6750 of 64770\n",
      "Processed 7000 of 64770\n",
      "Processed 7250 of 64770\n",
      "Processed 7500 of 64770\n",
      "Processed 7750 of 64770\n",
      "Processed 8000 of 64770\n",
      "Processed 8250 of 64770\n",
      "Processed 8500 of 64770\n",
      "Processed 8750 of 64770\n",
      "Processed 9000 of 64770\n",
      "Processed 9250 of 64770\n",
      "Processed 9500 of 64770\n",
      "Processed 9750 of 64770\n",
      "Processed 10000 of 64770\n",
      "Processed 10250 of 64770\n",
      "Processed 10500 of 64770\n",
      "Processed 10750 of 64770\n",
      "Processed 11000 of 64770\n",
      "Processed 11250 of 64770\n",
      "Processed 11500 of 64770\n",
      "Processed 11750 of 64770\n",
      "Processed 12000 of 64770\n",
      "Processed 12250 of 64770\n",
      "Processed 12500 of 64770\n",
      "Processed 12750 of 64770\n",
      "Processed 13000 of 64770\n",
      "Processed 13250 of 64770\n",
      "Processed 13500 of 64770\n",
      "Processed 13750 of 64770\n",
      "Processed 14000 of 64770\n",
      "Processed 14250 of 64770\n",
      "Processed 14500 of 64770\n",
      "Processed 14750 of 64770\n",
      "Processed 15000 of 64770\n",
      "Processed 15250 of 64770\n",
      "Processed 15500 of 64770\n",
      "Processed 15750 of 64770\n",
      "Processed 16000 of 64770\n",
      "Processed 16250 of 64770\n",
      "Processed 16500 of 64770\n",
      "Processed 16750 of 64770\n",
      "Processed 17000 of 64770\n",
      "Processed 17250 of 64770\n",
      "Processed 17500 of 64770\n",
      "Processed 17750 of 64770\n",
      "Processed 18000 of 64770\n",
      "Processed 18250 of 64770\n",
      "Processed 18500 of 64770\n",
      "Processed 18750 of 64770\n",
      "Processed 19000 of 64770\n",
      "Processed 19250 of 64770\n",
      "Processed 19500 of 64770\n",
      "Processed 19750 of 64770\n",
      "Processed 20000 of 64770\n",
      "Processed 20250 of 64770\n",
      "Processed 20500 of 64770\n",
      "Processed 20750 of 64770\n",
      "Processed 21000 of 64770\n",
      "Processed 21250 of 64770\n",
      "Processed 21500 of 64770\n",
      "Processed 21750 of 64770\n",
      "Processed 22000 of 64770\n",
      "Processed 22250 of 64770\n",
      "Processed 22500 of 64770\n",
      "Processed 22750 of 64770\n",
      "Processed 23000 of 64770\n",
      "Processed 23250 of 64770\n",
      "Processed 23500 of 64770\n",
      "Processed 23750 of 64770\n",
      "Processed 24000 of 64770\n",
      "Processed 24250 of 64770\n",
      "Processed 24500 of 64770\n",
      "Processed 24750 of 64770\n",
      "Processed 25000 of 64770\n",
      "Processed 25250 of 64770\n",
      "Processed 25500 of 64770\n",
      "Processed 25750 of 64770\n",
      "Processed 26000 of 64770\n",
      "Processed 26250 of 64770\n",
      "Processed 26500 of 64770\n",
      "Processed 26750 of 64770\n",
      "Processed 27000 of 64770\n",
      "Processed 27250 of 64770\n",
      "Processed 27500 of 64770\n",
      "Processed 27750 of 64770\n",
      "Processed 28000 of 64770\n",
      "Processed 28250 of 64770\n",
      "Processed 28500 of 64770\n",
      "Processed 28750 of 64770\n",
      "Processed 29000 of 64770\n",
      "Processed 29250 of 64770\n",
      "Processed 29500 of 64770\n",
      "Processed 29750 of 64770\n",
      "Processed 30000 of 64770\n",
      "Processed 30250 of 64770\n",
      "Processed 30500 of 64770\n",
      "Processed 30750 of 64770\n",
      "Processed 31000 of 64770\n",
      "Processed 31250 of 64770\n",
      "Processed 31500 of 64770\n",
      "Processed 31750 of 64770\n",
      "Processed 32000 of 64770\n",
      "Processed 32250 of 64770\n",
      "Processed 32500 of 64770\n",
      "Processed 32750 of 64770\n",
      "Processed 33000 of 64770\n",
      "Processed 33250 of 64770\n",
      "Processed 33500 of 64770\n",
      "Processed 33750 of 64770\n",
      "Processed 34000 of 64770\n",
      "Processed 34250 of 64770\n",
      "Processed 34500 of 64770\n",
      "Processed 34750 of 64770\n",
      "Processed 35000 of 64770\n",
      "Processed 35250 of 64770\n",
      "Processed 35500 of 64770\n",
      "Processed 35750 of 64770\n",
      "Processed 36000 of 64770\n",
      "Processed 36250 of 64770\n",
      "Processed 36500 of 64770\n",
      "Processed 36750 of 64770\n",
      "Processed 37000 of 64770\n",
      "Processed 37250 of 64770\n",
      "Processed 37500 of 64770\n",
      "Processed 37750 of 64770\n",
      "Processed 38000 of 64770\n",
      "Processed 38250 of 64770\n",
      "Processed 38500 of 64770\n",
      "Processed 38750 of 64770\n",
      "Processed 39000 of 64770\n",
      "Processed 39250 of 64770\n",
      "Processed 39500 of 64770\n",
      "Processed 39750 of 64770\n",
      "Processed 40000 of 64770\n",
      "Processed 40250 of 64770\n",
      "Processed 40500 of 64770\n",
      "Processed 40750 of 64770\n",
      "Processed 41000 of 64770\n",
      "Processed 41250 of 64770\n",
      "Processed 41500 of 64770\n",
      "Processed 41750 of 64770\n",
      "Processed 42000 of 64770\n",
      "Processed 42250 of 64770\n",
      "Processed 42500 of 64770\n",
      "Processed 42750 of 64770\n",
      "Processed 43000 of 64770\n",
      "Processed 43250 of 64770\n",
      "Processed 43500 of 64770\n",
      "Processed 43750 of 64770\n",
      "Processed 44000 of 64770\n",
      "Processed 44250 of 64770\n",
      "Processed 44500 of 64770\n",
      "Processed 44750 of 64770\n",
      "Processed 45000 of 64770\n",
      "Processed 45250 of 64770\n",
      "Processed 45500 of 64770\n",
      "Processed 45750 of 64770\n",
      "Processed 46000 of 64770\n",
      "Processed 46250 of 64770\n",
      "Processed 46500 of 64770\n",
      "Processed 46750 of 64770\n",
      "Processed 47000 of 64770\n",
      "Processed 47250 of 64770\n",
      "Processed 47500 of 64770\n",
      "Processed 47750 of 64770\n",
      "Processed 48000 of 64770\n",
      "Processed 48250 of 64770\n",
      "Processed 48500 of 64770\n",
      "Processed 48750 of 64770\n",
      "Processed 49000 of 64770\n",
      "Processed 49250 of 64770\n",
      "Processed 49500 of 64770\n",
      "Processed 49750 of 64770\n",
      "Processed 50000 of 64770\n",
      "Processed 50250 of 64770\n",
      "Processed 50500 of 64770\n",
      "Processed 50750 of 64770\n",
      "Processed 51000 of 64770\n",
      "Processed 51250 of 64770\n",
      "Processed 51500 of 64770\n",
      "Processed 51750 of 64770\n",
      "Processed 52000 of 64770\n",
      "Processed 52250 of 64770\n",
      "Processed 52500 of 64770\n",
      "Processed 52750 of 64770\n",
      "Processed 53000 of 64770\n",
      "Processed 53250 of 64770\n",
      "Processed 53500 of 64770\n",
      "Processed 53750 of 64770\n",
      "Processed 54000 of 64770\n",
      "Processed 54250 of 64770\n",
      "Processed 54500 of 64770\n",
      "Processed 54750 of 64770\n",
      "Processed 55000 of 64770\n",
      "Processed 55250 of 64770\n",
      "Processed 55500 of 64770\n",
      "Processed 55750 of 64770\n",
      "Processed 56000 of 64770\n",
      "Processed 56250 of 64770\n",
      "Processed 56500 of 64770\n",
      "Processed 56750 of 64770\n",
      "Processed 57000 of 64770\n",
      "Processed 57250 of 64770\n",
      "Processed 57500 of 64770\n",
      "Processed 57750 of 64770\n",
      "Processed 58000 of 64770\n",
      "Processed 58250 of 64770\n",
      "Processed 58500 of 64770\n",
      "Processed 58750 of 64770\n",
      "Processed 59000 of 64770\n",
      "Processed 59250 of 64770\n",
      "Processed 59500 of 64770\n",
      "Processed 59750 of 64770\n",
      "Processed 60000 of 64770\n",
      "Processed 60250 of 64770\n",
      "Processed 60500 of 64770\n",
      "Processed 60750 of 64770\n",
      "Processed 61000 of 64770\n",
      "Processed 61250 of 64770\n",
      "Processed 61500 of 64770\n",
      "Processed 61750 of 64770\n",
      "Processed 62000 of 64770\n",
      "Processed 62250 of 64770\n",
      "Processed 62500 of 64770\n",
      "Processed 62750 of 64770\n",
      "Processed 63000 of 64770\n",
      "Processed 63250 of 64770\n",
      "Processed 63500 of 64770\n",
      "Processed 63750 of 64770\n",
      "Processed 64000 of 64770\n",
      "Processed 64250 of 64770\n",
      "Processed 64500 of 64770\n",
      "Processed 64750 of 64770\n",
      "Processed 0 of 26950\n",
      "Processed 250 of 26950\n",
      "Processed 500 of 26950\n",
      "Processed 750 of 26950\n",
      "Processed 1000 of 26950\n",
      "Processed 1250 of 26950\n",
      "Processed 1500 of 26950\n",
      "Processed 1750 of 26950\n",
      "Processed 2000 of 26950\n",
      "Processed 2250 of 26950\n",
      "Processed 2500 of 26950\n",
      "Processed 2750 of 26950\n",
      "Processed 3000 of 26950\n",
      "Processed 3250 of 26950\n",
      "Processed 3500 of 26950\n",
      "Processed 3750 of 26950\n",
      "Processed 4000 of 26950\n",
      "Processed 4250 of 26950\n",
      "Processed 4500 of 26950\n",
      "Processed 4750 of 26950\n",
      "Processed 5000 of 26950\n",
      "Processed 5250 of 26950\n",
      "Processed 5500 of 26950\n",
      "Processed 5750 of 26950\n",
      "Processed 6000 of 26950\n",
      "Processed 6250 of 26950\n",
      "Processed 6500 of 26950\n",
      "Processed 6750 of 26950\n",
      "Processed 7000 of 26950\n",
      "Processed 7250 of 26950\n",
      "Processed 7500 of 26950\n",
      "Processed 7750 of 26950\n",
      "Processed 8000 of 26950\n",
      "Processed 8250 of 26950\n",
      "Processed 8500 of 26950\n",
      "Processed 8750 of 26950\n",
      "Processed 9000 of 26950\n",
      "Processed 9250 of 26950\n",
      "Processed 9500 of 26950\n",
      "Processed 9750 of 26950\n",
      "Processed 10000 of 26950\n",
      "Processed 10250 of 26950\n",
      "Processed 10500 of 26950\n",
      "Processed 10750 of 26950\n",
      "Processed 11000 of 26950\n",
      "Processed 11250 of 26950\n",
      "Processed 11500 of 26950\n",
      "Processed 11750 of 26950\n",
      "Processed 12000 of 26950\n",
      "Processed 12250 of 26950\n",
      "Processed 12500 of 26950\n",
      "Processed 12750 of 26950\n",
      "Processed 13000 of 26950\n",
      "Processed 13250 of 26950\n",
      "Processed 13500 of 26950\n",
      "Processed 13750 of 26950\n",
      "Processed 14000 of 26950\n",
      "Processed 14250 of 26950\n",
      "Processed 14500 of 26950\n",
      "Processed 14750 of 26950\n",
      "Processed 15000 of 26950\n",
      "Processed 15250 of 26950\n",
      "Processed 15500 of 26950\n",
      "Processed 15750 of 26950\n",
      "Processed 16000 of 26950\n",
      "Processed 16250 of 26950\n",
      "Processed 16500 of 26950\n",
      "Processed 16750 of 26950\n",
      "Processed 17000 of 26950\n",
      "Processed 17250 of 26950\n",
      "Processed 17500 of 26950\n",
      "Processed 17750 of 26950\n",
      "Processed 18000 of 26950\n",
      "Processed 18250 of 26950\n",
      "Processed 18500 of 26950\n",
      "Processed 18750 of 26950\n",
      "Processed 19000 of 26950\n",
      "Processed 19250 of 26950\n",
      "Processed 19500 of 26950\n"
     ]
    },
    {
     "name": "stdout",
     "output_type": "stream",
     "text": [
      "Processed 19750 of 26950\n",
      "Processed 20000 of 26950\n",
      "Processed 20250 of 26950\n",
      "Processed 20500 of 26950\n",
      "Processed 20750 of 26950\n",
      "Processed 21000 of 26950\n",
      "Processed 21250 of 26950\n",
      "Processed 21500 of 26950\n",
      "Processed 21750 of 26950\n",
      "Processed 22000 of 26950\n",
      "Processed 22250 of 26950\n",
      "Processed 22500 of 26950\n",
      "Processed 22750 of 26950\n",
      "Processed 23000 of 26950\n",
      "Processed 23250 of 26950\n",
      "Processed 23500 of 26950\n",
      "Processed 23750 of 26950\n",
      "Processed 24000 of 26950\n",
      "Processed 24250 of 26950\n",
      "Processed 24500 of 26950\n",
      "Processed 24750 of 26950\n",
      "Processed 25000 of 26950\n",
      "Processed 25250 of 26950\n",
      "Processed 25500 of 26950\n",
      "Processed 25750 of 26950\n",
      "Processed 26000 of 26950\n",
      "Processed 26250 of 26950\n",
      "Processed 26500 of 26950\n",
      "Processed 26750 of 26950\n"
     ]
    }
   ],
   "source": [
    "TRAIN_1_DIR = '../data/train/1/'\n",
    "TRAIN_0_DIR = '../data/train/0/'\n",
    "\n",
    "\n",
    "ROWS = 36\n",
    "COLS = 36\n",
    "CHANNELS = 1\n",
    "\n",
    "HARD_EXAMPLE_SET = []\n",
    "\n",
    "TRIAN_1_PATH =   [TRAIN_1_DIR+i for i in os.listdir(TRAIN_1_DIR)]\n",
    "TRIAN_0_PATH =   [TRAIN_0_DIR+i for i in os.listdir(TRAIN_0_DIR)]\n",
    "\n",
    "\n",
    "def read_image(file_path):\n",
    "    img = cv2.imread(file_path, cv2.IMREAD_GRAYSCALE) #\n",
    "    return cv2.resize(img, (ROWS, COLS), interpolation=cv2.INTER_CUBIC)\n",
    "\n",
    "\n",
    "def prep_data(images):\n",
    "    count = len(images)\n",
    "    data = np.ndarray((count, ROWS, COLS), dtype=np.uint8)\n",
    "\n",
    "    for i, image_file in enumerate(images):\n",
    "        image = read_image(image_file)\n",
    "        data[i] = image\n",
    "        if i%250 == 0: print('Processed {} of {}'.format(i, count))\n",
    "    \n",
    "    return data\n",
    "\n",
    "TRIAN_1_IMAGES = prep_data(TRIAN_1_PATH)\n",
    "TRIAN_0_IMAGES = prep_data(TRIAN_0_PATH)\n",
    "\n",
    "def add_hard_no_face_example(no_face_images_vect):\n",
    "    HARD_EXAMPLE_SET += no_face_images_vect"
   ]
  },
  {
   "cell_type": "markdown",
   "metadata": {},
   "source": [
    "## Show few examples"
   ]
  },
  {
   "cell_type": "code",
   "execution_count": null,
   "metadata": {},
   "outputs": [],
   "source": [
    "def show_example(idx):\n",
    "    face = TRIAN_1_IMAGES[idx]\n",
    "    noface = TRIAN_0_IMAGES[idx]\n",
    "    pair = np.concatenate((face, noface), axis=1)\n",
    "    plt.figure(figsize=(10,5))\n",
    "    plt.imshow(pair, cmap='gray')\n",
    "    plt.show()\n",
    "    \n",
    "\n",
    "show_example(1)"
   ]
  },
  {
   "cell_type": "code",
   "execution_count": null,
   "metadata": {},
   "outputs": [],
   "source": [
    "show_example(2)"
   ]
  },
  {
   "cell_type": "code",
   "execution_count": null,
   "metadata": {},
   "outputs": [],
   "source": [
    "show_example(4)"
   ]
  },
  {
   "cell_type": "markdown",
   "metadata": {},
   "source": [
    "## Prepar train set"
   ]
  },
  {
   "cell_type": "code",
   "execution_count": 39,
   "metadata": {},
   "outputs": [
    {
     "name": "stdout",
     "output_type": "stream",
     "text": [
      "10000\n",
      "(10000, 36, 36, 1)\n",
      "10000\n",
      "10000\n",
      "[1 0 1 0 1 0 1 0 1 0]\n",
      "6000\n",
      "(6000, 36, 36, 1)\n",
      "0\n"
     ]
    },
    {
     "data": {
      "image/png": "[encoded data removed]",
      "text/plain": [
       "<matplotlib.figure.Figure at 0x13efb46d8>"
      ]
     },
     "metadata": {},
     "output_type": "display_data"
    },
    {
     "name": "stdout",
     "output_type": "stream",
     "text": [
      "1\n"
     ]
    },
    {
     "data": {
      "image/png": "[encoded data removed]",
      "text/plain": [
       "<matplotlib.figure.Figure at 0x13f342b38>"
      ]
     },
     "metadata": {},
     "output_type": "display_data"
    },
    {
     "name": "stdout",
     "output_type": "stream",
     "text": [
      "0\n"
     ]
    },
    {
     "data": {
      "image/png": "[encoded data removed]",
      "text/plain": [
       "<matplotlib.figure.Figure at 0x142261c50>"
      ]
     },
     "metadata": {},
     "output_type": "display_data"
    },
    {
     "name": "stdout",
     "output_type": "stream",
     "text": [
      "1\n"
     ]
    },
    {
     "data": {
      "image/png": "[encoded data removed]",
      "text/plain": [
       "<matplotlib.figure.Figure at 0x13eeefc18>"
      ]
     },
     "metadata": {},
     "output_type": "display_data"
    }
   ],
   "source": [
    "def shuffle_and_get_new_train_set():\n",
    "    random.shuffle(TRIAN_1_IMAGES)\n",
    "    random.shuffle(TRIAN_0_IMAGES)\n",
    "    test_images_1 = TRIAN_1_IMAGES[:3000]\n",
    "    test_images_0 = TRIAN_0_IMAGES[:3000]\n",
    "    train_1 = TRIAN_1_IMAGES[3000:]\n",
    "    train_0 = TRIAN_0_IMAGES[3000:]\n",
    "    return train_1, train_0, test_images_1, test_images_0\n",
    "\n",
    "def prepar_train_images():\n",
    "    train_1, train_0, test_images_1, test_images_0 = shuffle_and_get_new_train_set()\n",
    "    train_images = np.array(list(train_1[:(5000+len(HARD_EXAMPLE_SET))]) +\n",
    "                            list(train_0[:5000]) + list(HARD_EXAMPLE_SET))\n",
    "    train_images.resize((len(train_images), 36, 36, 1))\n",
    "    train_and_label = list(zip(train_images, ([1]*(len(train_images)//2)) + ([0]*(len(train_images)//2))))\n",
    "    random.shuffle(train_and_label)\n",
    "    train_images = list(map(lambda x: x[0], train_and_label))\n",
    "    train_labels = list(map(lambda x: x[1], train_and_label))\n",
    "    test_imagies = list(test_images_1) + list(test_images_0)\n",
    "    test_imagies = np.array(test_imagies)\n",
    "    test_imagies.resize((6000, 36, 36, 1))\n",
    "    return np.array(train_images), np.array(train_labels), test_imagies\n",
    "    \n",
    "\n",
    "    \n",
    "    \n",
    "\n",
    "train_images, train_labels, test_imagies = prepar_train_images()\n",
    "print(len(train_images))\n",
    "print(train_images.shape)\n",
    "print(len(train_labels))\n",
    "print(train_labels.size)\n",
    "print(train_labels[:10])\n",
    "print(len(test_imagies))\n",
    "print(test_imagies.shape)\n",
    "\n",
    "print(train_labels[1])\n",
    "plt.imshow(train_images[1].reshape((36,36)), cmap='gray')\n",
    "plt.show()\n",
    "print(train_labels[2])\n",
    "plt.imshow(train_images[2].reshape((36,36)), cmap='gray')\n",
    "plt.show()\n",
    "print(train_labels[3])\n",
    "plt.imshow(train_images[3].reshape((36,36)), cmap='gray')\n",
    "plt.show()\n",
    "print(train_labels[4])\n",
    "plt.imshow(train_images[4].reshape((36,36)), cmap='gray')\n",
    "plt.show()"
   ]
  },
  {
   "cell_type": "code",
   "execution_count": 40,
   "metadata": {},
   "outputs": [
    {
     "name": "stderr",
     "output_type": "stream",
     "text": [
      "/Users/jacques/anaconda3/lib/python3.6/site-packages/ipykernel_launcher.py:10: UserWarning: Update your `Conv2D` call to the Keras 2 API: `Conv2D(4, 5, strides=(1, 1), input_shape=(36, 36, 1..., data_format=\"channels_last\", activation=\"relu\", padding=\"same\")`\n",
      "  # Remove the CWD from sys.path while we load stuff.\n",
      "/Users/jacques/anaconda3/lib/python3.6/site-packages/ipykernel_launcher.py:13: UserWarning: Update your `Conv2D` call to the Keras 2 API: `Conv2D(16, 3, strides=(1, 1), activation=\"relu\", padding=\"same\")`\n",
      "  del sys.path[0]\n"
     ]
    }
   ],
   "source": [
    "optimizer = RMSprop(lr=1e-4)\n",
    "objective = 'binary_crossentropy'\n",
    "\n",
    "\n",
    "def faceRecognition():\n",
    "    \n",
    "    model = Sequential()\n",
    "\n",
    "    model.add(Conv2D(4, 5, strides=(1,1), border_mode='same',\n",
    "                     input_shape=(36, 36, 1), data_format=\"channels_last\", activation='relu'))\n",
    "    model.add(MaxPooling2D(pool_size=(2, 2)))\n",
    "\n",
    "    model.add(Conv2D(16, 3, strides=(1,1), border_mode='same', activation='relu'))\n",
    "    model.add(MaxPooling2D(pool_size=(2, 2)))\n",
    "\n",
    "    model.add(Flatten())\n",
    "    model.add(Dense(64, activation='relu'))\n",
    "\n",
    "    model.add(Dense(1))\n",
    "    model.add(Activation('sigmoid'))\n",
    "\n",
    "    model.compile(loss=objective, optimizer=optimizer, metrics=['accuracy'])\n",
    "    return model\n",
    "\n",
    "\n",
    "model = faceRecognition()"
   ]
  },
  {
   "cell_type": "code",
   "execution_count": 41,
   "metadata": {},
   "outputs": [
    {
     "name": "stderr",
     "output_type": "stream",
     "text": [
      "/Users/jacques/anaconda3/lib/python3.6/site-packages/keras/models.py:939: UserWarning: The `nb_epoch` argument in `fit` has been renamed `epochs`.\n",
      "  warnings.warn('The `nb_epoch` argument in `fit` '\n"
     ]
    }
   ],
   "source": [
    "nb_epoch = 10\n",
    "batch_size = 32\n",
    "\n",
    "class LossHistory(Callback):\n",
    "    def on_train_begin(self, logs={}):\n",
    "        self.losses = []\n",
    "        self.val_losses = []\n",
    "        \n",
    "    def on_epoch_end(self, batch, logs={}):\n",
    "        self.losses.append(logs.get('accuracy'))\n",
    "        self.val_losses.append(logs.get('val_loss'))\n",
    "        \n",
    "early_stopping = EarlyStopping(monitor='val_loss', patience=3, verbose=1, mode='auto')        \n",
    "        \n",
    "def train_model():\n",
    "    \n",
    "    history = LossHistory()\n",
    "    model.fit(train_images, train_labels, batch_size=batch_size, nb_epoch=nb_epoch,\n",
    "              validation_split=0.25, verbose=0, shuffle=True, callbacks=[history, early_stopping])\n",
    "    return history\n",
    "\n",
    "history = train_model()"
   ]
  },
  {
   "cell_type": "code",
   "execution_count": 42,
   "metadata": {},
   "outputs": [
    {
     "data": {
      "image/png": "[encoded data removed]",
      "text/plain": [
       "<matplotlib.figure.Figure at 0x10d6957b8>"
      ]
     },
     "metadata": {},
     "output_type": "display_data"
    }
   ],
   "source": [
    "loss = history.losses\n",
    "val_loss = history.val_losses\n",
    "\n",
    "plt.xlabel('Epochs')\n",
    "plt.ylabel('Loss')\n",
    "plt.title('Face_recog Loss Trend')\n",
    "plt.plot(loss, 'blue', label='Training Loss')\n",
    "plt.plot(val_loss, 'green', label='Validation Loss')\n",
    "plt.xticks(range(0,nb_epoch)[0::2])\n",
    "plt.legend()\n",
    "plt.show()"
   ]
  },
  {
   "cell_type": "markdown",
   "metadata": {},
   "source": [
    "## Test model"
   ]
  },
  {
   "cell_type": "code",
   "execution_count": 43,
   "metadata": {},
   "outputs": [],
   "source": [
    "predictions = model.predict(test_imagies, verbose=0)"
   ]
  },
  {
   "cell_type": "code",
   "execution_count": 44,
   "metadata": {},
   "outputs": [
    {
     "name": "stdout",
     "output_type": "stream",
     "text": [
      "[9, 15, 26, 29, 42, 47, 65, 79, 87, 111, 148, 187, 232, 279, 830]\n",
      "[24, 18, 14, 12, 5, 5, 3, 0, 0, 0, 0, 0, 0, 0, 0]\n",
      "nb error optimum : 33 for tolereance of : [0.9, 0.6]\n"
     ]
    },
    {
     "data": {
      "image/png": "[encoded data removed]",
      "text/plain": [
       "<matplotlib.figure.Figure at 0x11f7a44e0>"
      ]
     },
     "metadata": {},
     "output_type": "display_data"
    }
   ],
   "source": [
    "false_pos = []\n",
    "false_neg = []\n",
    "nb_error = []\n",
    "for tolerance in [0.9, 0.6, 0.5, 0.4, 0.1, 0.05, 0.02, 0.01, 0.005, 0.002, 0.001, 0.0005, 0.0002, 0.0001, 0]:\n",
    "    false_pos.append(len(list(filter(lambda x: x[0] == x[1], list(zip(([0]*(len(test_imagies)//2)), list(map(lambda x: int(x+tolerance), predictions[:(len(test_imagies)//2)]))))))))\n",
    "    false_neg.append(len(list(filter(lambda x: x[0] == x[1], list(zip(([1]*(len(test_imagies)//2)), list(map(lambda x: int(x+tolerance), predictions[(len(test_imagies)//2)+1:]))))))))\n",
    "    nb_error.append((len(list(filter(lambda x: x[0] == x[1], list(zip(([0]*(len(test_imagies)//2)) +\n",
    "                                                                        [1]*(len(test_imagies)//2),\n",
    "                                       list(map(lambda x: int(x+tolerance), predictions))))))), tolerance))\n",
    "print(false_pos)\n",
    "print(false_neg)\n",
    "print(\"nb error optimum : \" + str(min(list(map(lambda x: x[0], nb_error)))) + \" for tolereance of : \" +\n",
    "     str(list(map(lambda x: x[1], list(filter(lambda x: x[0] == min(list(map(lambda x: x[0], nb_error))), nb_error))))))\n",
    "\n",
    "false_pos_rate = list(map(lambda x: x/max(false_pos), false_pos))\n",
    "true_pos_rate = list(map(lambda x: (1-(x/max(false_neg))), false_neg))\n",
    "\n",
    "plt.plot(false_pos_rate, true_pos_rate)\n",
    "plt.xlabel('false positive rate')\n",
    "plt.ylabel('true positive rate')\n",
    "plt.show()\n"
   ]
  },
  {
   "cell_type": "markdown",
   "metadata": {},
   "source": [
    "## Save model"
   ]
  },
  {
   "cell_type": "code",
   "execution_count": null,
   "metadata": {},
   "outputs": [],
   "source": [
    "model.save('my_model.h5')\n",
    "del model  # deletes the existing model\n",
    "\n",
    "# returns a compiled model\n",
    "# identical to the previous one\n",
    "model = load_model('my_model.h5')\n",
    "predictions = model.predict(tests, verbose=0)\n",
    "len(list(filter(lambda x: x[0] == x[1], list(zip(([0]*1000 + [1]*1000), list(map(lambda x: int(x+0.01), predictions)))))))"
   ]
  },
  {
   "cell_type": "code",
   "execution_count": null,
   "metadata": {
    "collapsed": true
   },
   "outputs": [],
   "source": []
  }
 ],
 "metadata": {
  "anaconda-cloud": {},
  "kernelspec": {
   "display_name": "Python [default]",
   "language": "python",
   "name": "python3"
  },
  "language_info": {
   "codemirror_mode": {
    "name": "ipython",
    "version": 3
   },
   "file_extension": ".py",
   "mimetype": "text/x-python",
   "name": "python",
   "nbconvert_exporter": "python",
   "pygments_lexer": "ipython3",
   "version": "3.5.2"
  }
 },
 "nbformat": 4,
 "nbformat_minor": 2
}
