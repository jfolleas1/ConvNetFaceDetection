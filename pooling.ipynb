{
 "cells": [
  {
   "cell_type": "code",
   "execution_count": null,
   "metadata": {},
   "outputs": [],
   "source": [
    "import cv2\n",
    "import numpy as np\n",
    "from matplotlib import pyplot as plt"
   ]
  },
  {
   "cell_type": "code",
   "execution_count": null,
   "metadata": {},
   "outputs": [],
   "source": [
    "# -------------------------------------------------\n",
    "# Constant\n",
    "SIZE_FILTER_X = 36\n",
    "SIZE_FILTER_Y = 36"
   ]
  },
  {
   "cell_type": "code",
   "execution_count": null,
   "metadata": {},
   "outputs": [],
   "source": [
    "def search_visage(gray_image, size_filter_X, size_filter_Y):\n",
    "    \n",
    "    # Raise an exception, if we can't apply the fitlter\n",
    "    width, height = gray_image.shape[0], gray_image.shape[1]\n",
    "    \n",
    "    if width < size_filter_Y and height < size_filter_X :\n",
    "        raise Exception (\"impossible to crop properly\")\n",
    "        \n",
    "    if (size_filter_X/2) % 2 != 0 or (size_filter_Y/2) % 2 != 0:\n",
    "        raise Exception (\"All dimension of the filter should be pair\")\n",
    "    \n",
    "    # loop on the image.\n",
    "    fil_divi_2_X = int (size_filter_X/2)\n",
    "    fil_divi_2_Y = int (size_filter_Y/2)\n",
    "    result = []\n",
    "    for y in range(fil_divi_2_X, height - fil_divi_2_X):\n",
    "        for x in range(fil_divi_2_Y, width - fil_divi_2_Y):\n",
    "            crop_img = gray_image[x - fil_divi_2_X: x + fil_divi_2_X, y - fil_divi_2_Y : y + fil_divi_2_Y]\n",
    "            # apply the model\n",
    "            \n",
    "            # test --> rectangle.\n",
    "            if x == 110 and y == 30: \n",
    "                result.append((x,y))  \n",
    "    return result"
   ]
  },
  {
   "cell_type": "code",
   "execution_count": null,
   "metadata": {},
   "outputs": [],
   "source": [
    "def draw_rectangle(img, cor_x, cor_y, size_filter_X, size_filter_Y ):\n",
    "    fil_divi_2_X = int (size_filter_X/2)\n",
    "    fil_divi_2_Y = int (size_filter_Y/2)\n",
    "    return cv2.rectangle(img, (cor_x - fil_divi_2_X, cor_y - fil_divi_2_Y), (cor_x + fil_divi_2_X, cor_y + fil_divi_2_Y), (255,0,0))"
   ]
  },
  {
   "cell_type": "code",
   "execution_count": null,
   "metadata": {},
   "outputs": [],
   "source": [
    "def pyramid_search (path_image, size_filter_X, size_filter_Y):\n",
    "    # We get and tranform the image in gray.\n",
    "    img_search = cv2.imread(path_image)\n",
    "    gray_image = cv2.cvtColor(img_search, cv2.COLOR_BGR2GRAY)\n",
    "    \n",
    "    # Make the reduction.\n",
    "    # --> search\n",
    "    nbIterations = 5                                      # Put in parameter of pyramid_search ? \n",
    "    height, width = gray_image.shape\n",
    "    nbPixelToReduceX = int((width  - size_filter_X) / nbIterations)\n",
    "    nbPixelToReduceY = int((height - size_filter_Y) / nbIterations)\n",
    "\n",
    "    fig = plt.figure(figsize=(12, 12))\n",
    "    \n",
    "    for ite in range(nbIterations) :\n",
    "        \n",
    "        height, width = gray_image.shape\n",
    "        \n",
    "        if(ite == nbIterations-1):\n",
    "            gray_image = cv2.resize(gray_image, (size_filter_X, size_filter_Y)) # Last iteration\n",
    "        elif(ite == 0):\n",
    "            pass\n",
    "        else :\n",
    "            gray_image = cv2.resize(gray_image, (width - nbPixelToReduceX, height - nbPixelToReduceY))   \n",
    "        \n",
    "        # we get all square that seems to be a visage.\n",
    "        result = search_visage(gray_image, size_filter_X, size_filter_Y)\n",
    "\n",
    "        # draw red rectangle.\n",
    "        for x, y in result: \n",
    "            img_final = draw_rectangle(gray_image, x, y, size_filter_X, size_filter_Y)\n",
    "\n",
    "        # Plot\n",
    "        fig.add_subplot(nbIterations, 1, ite+1)\n",
    "        plt.imshow(gray_image)\n",
    "        \n",
    "    plt.show()"
   ]
  },
  {
   "cell_type": "code",
   "execution_count": null,
   "metadata": {},
   "outputs": [],
   "source": [
    "pyramid_search('hulk.jpg', SIZE_FILTER_X, SIZE_FILTER_Y)"
   ]
  },
  {
   "cell_type": "code",
   "execution_count": null,
   "metadata": {},
   "outputs": [],
   "source": []
  }
 ],
 "metadata": {
  "anaconda-cloud": {},
  "kernelspec": {
   "display_name": "Python 3",
   "language": "python",
   "name": "python3"
  },
  "language_info": {
   "codemirror_mode": {
    "name": "ipython",
    "version": 3
   },
   "file_extension": ".py",
   "mimetype": "text/x-python",
   "name": "python",
   "nbconvert_exporter": "python",
   "pygments_lexer": "ipython3",
   "version": "3.5.4"
  }
 },
 "nbformat": 4,
 "nbformat_minor": 1
}
