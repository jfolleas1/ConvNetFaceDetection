{
 "cells": [
  {
   "cell_type": "code",
   "execution_count": null,
   "metadata": {},
   "outputs": [],
   "source": [
    "import cv2\n",
    "import numpy as np\n",
    "from matplotlib import pyplot as plt\n",
    "import copy"
   ]
  },
  {
   "cell_type": "code",
   "execution_count": null,
   "metadata": {},
   "outputs": [],
   "source": [
    "# -------------------------------------------------\n",
    "# Constant\n",
    "SIZE_FILTER_X = 36\n",
    "SIZE_FILTER_Y = 36\n",
    "NB_ITERATION = 5"
   ]
  },
  {
   "cell_type": "code",
   "execution_count": null,
   "metadata": {},
   "outputs": [],
   "source": [
    "def search_visage(gray_image, size_filter_X, size_filter_Y):\n",
    "    \n",
    "    # Raise an exception, if we can't apply the fitlter\n",
    "    width, height = gray_image.shape[0], gray_image.shape[1]\n",
    "    \n",
    "    if width < size_filter_Y and height < size_filter_X :\n",
    "        raise Exception (\"impossible to crop properly\")\n",
    "        \n",
    "    if (size_filter_X/2) % 2 != 0 or (size_filter_Y/2) % 2 != 0:\n",
    "        raise Exception (\"All dimension of the filter should be pair\")\n",
    "    \n",
    "    # loop on the image.\n",
    "    fil_divi_2_X = int (size_filter_X/2)\n",
    "    fil_divi_2_Y = int (size_filter_Y/2)\n",
    "    result = []\n",
    "    for y in range(fil_divi_2_X, height - fil_divi_2_X):\n",
    "        for x in range(fil_divi_2_Y, width - fil_divi_2_Y):\n",
    "            crop_img = gray_image[x - fil_divi_2_X: x + fil_divi_2_X, y - fil_divi_2_Y : y + fil_divi_2_Y]\n",
    "            # apply the model\n",
    "            \n",
    "            # test --> rectangle.\n",
    "            if x == 110 and y == 30: \n",
    "                result.append((x,y))  \n",
    "    return result"
   ]
  },
  {
   "cell_type": "code",
   "execution_count": null,
   "metadata": {},
   "outputs": [],
   "source": [
    "def draw_rectangle(img, cor_x, cor_y, size_filter_X, size_filter_Y ):\n",
    "    fil_divi_2_X = int (size_filter_X/2)\n",
    "    fil_divi_2_Y = int (size_filter_Y/2)\n",
    "    cv2.rectangle(img, (cor_x - fil_divi_2_X, cor_y - fil_divi_2_Y), (cor_x + fil_divi_2_X, cor_y + fil_divi_2_Y), (0,255,255), 2)\n",
    "    return img"
   ]
  },
  {
   "cell_type": "code",
   "execution_count": null,
   "metadata": {},
   "outputs": [],
   "source": [
    "def pyramid_search (path_image, size_filter_X, size_filter_Y, nb_iterations):\n",
    "    # We get and tranform the image in gray.\n",
    "    img_search = cv2.imread(path_image)\n",
    "    gray_image = cv2.cvtColor(img_search, cv2.COLOR_BGR2GRAY)\n",
    "    gray_imag_rect  = copy.deepcopy(gray_image)\n",
    "    \n",
    "    # Make the reduction.\n",
    "    # --> search\n",
    "    height, width = gray_image.shape\n",
    "    nbPixelToReduceX = int((width  - size_filter_X) / nb_iterations)\n",
    "    nbPixelToReduceY = int((height - size_filter_Y) / nb_iterations)\n",
    "\n",
    "    for ite in range(nb_iterations) :\n",
    "        \n",
    "        height, width = gray_image.shape\n",
    "        \n",
    "        if(ite == nb_iterations-1):\n",
    "            gray_image = cv2.resize(gray_image, (size_filter_X, size_filter_Y)) # Last iteration\n",
    "            size_filter_X_new = width - nbPixelToReduceX\n",
    "            size_filter_Y_new = height - nbPixelToReduceY\n",
    "        elif(ite == 0):\n",
    "            size_filter_X_new = size_filter_X - nbPixelToReduceX\n",
    "            size_filter_Y_new = size_filter_Y - nbPixelToReduceY\n",
    "        else :\n",
    "            gray_image = cv2.resize(gray_image, (width - nbPixelToReduceX, height - nbPixelToReduceY))   \n",
    "        \n",
    "        # we get all square that seems to be a visage.\n",
    "        result = search_visage(gray_image, size_filter_X, size_filter_Y)\n",
    "        \n",
    "        size_filter_X_new = nbPixelToReduceX + size_filter_X_new\n",
    "        size_filter_Y_new = nbPixelToReduceY + size_filter_Y_new\n",
    "        \n",
    "        \n",
    "        # draw red rectangle.\n",
    "        for x, y in result: \n",
    "            gray_imag_rect = draw_rectangle(gray_imag_rect, x, y, size_filter_X_new, size_filter_Y_new)\n",
    "        \n",
    "    return gray_imag_rect"
   ]
  },
  {
   "cell_type": "code",
   "execution_count": null,
   "metadata": {},
   "outputs": [],
   "source": [
    "result = pyramid_search('hulk.jpg', SIZE_FILTER_X, SIZE_FILTER_Y, NB_ITERATION)"
   ]
  },
  {
   "cell_type": "code",
   "execution_count": null,
   "metadata": {},
   "outputs": [],
   "source": [
    "plt.imshow(result)"
   ]
  }
 ],
 "metadata": {
  "anaconda-cloud": {},
  "kernelspec": {
   "display_name": "Python [default]",
   "language": "python",
   "name": "python3"
  },
  "language_info": {
   "codemirror_mode": {
    "name": "ipython",
    "version": 3
   },
   "file_extension": ".py",
   "mimetype": "text/x-python",
   "name": "python",
   "nbconvert_exporter": "python",
   "pygments_lexer": "ipython3",
   "version": "3.5.2"
  }
 },
 "nbformat": 4,
 "nbformat_minor": 1
}
